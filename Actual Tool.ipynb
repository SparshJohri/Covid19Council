{
  "nbformat": 4,
  "nbformat_minor": 0,
  "metadata": {
    "kernelspec": {
      "display_name": "Python 3",
      "language": "python",
      "name": "python3"
    },
    "language_info": {
      "codemirror_mode": {
        "name": "ipython",
        "version": 3
      },
      "file_extension": ".py",
      "mimetype": "text/x-python",
      "name": "python",
      "nbconvert_exporter": "python",
      "pygments_lexer": "ipython3",
      "version": "3.7.6"
    },
    "colab": {
      "name": "Tool_Without_Region_Inclusion.ipynb",
      "provenance": [],
      "collapsed_sections": []
    }
  },
  "cells": [
    {
      "cell_type": "markdown",
      "metadata": {
        "id": "OfsTg1f_-Pq4",
        "colab_type": "text"
      },
      "source": [
        "**Tasks Accomplished**\n",
        "\n",
        "1) Integrating my program with Kartikaya's more smoothly\n",
        "\n",
        "    a) Figuring out the use of the synthetic control models\n",
        "    b) Adapting the code to the various changes in variable names, format of data, etc.\n",
        "\n",
        "2) Predictor variables have been used to find the similar counties (this has yielded better results than just lagged-outcome variables).\n",
        "\n",
        "    a) The predictor variables used are population, median age, and population density. \n",
        "    Population and median age are drawn from the Census Bureau. \n",
        "    To get population density, I webscraped a wikipedia article and extracted \n",
        "    the land areas of the counties. I then divided the poplation column by the land area column.\n",
        "\n",
        "    b) This was done because the lagged-outcome-variable model yielded incorrect results. \n",
        "    The prediction not match the pre-intervention period and the post-intervention period \n",
        "    kept showing that masks were driving up cases.\n",
        "         i) This was because the donor pool counties had a much lower population (and presumably \n",
        "         population density), even though the initial number of cases matched my selected county.\n",
        "\n",
        "    c) With a combination of lagged-outcome variables and predictor variables,\n",
        "    the model is working well.\n",
        "\n",
        "**Remaining Tasks**\n",
        "\n",
        "1) Do multiple counties simultaneously.\n",
        "\n",
        "2) Look at the counties of states within the same region instead of limiting ourselves to the counties of any given state\n",
        "\n",
        "**Long-term**\n",
        "1) TEX, LATEX, and Overleaf"
      ]
    },
    {
      "cell_type": "markdown",
      "metadata": {
        "id": "EAPN3HEZeXWE",
        "colab_type": "text"
      },
      "source": [
        "## Importing Libraries "
      ]
    },
    {
      "cell_type": "code",
      "metadata": {
        "id": "ot0eI208_We_",
        "colab_type": "code",
        "cellView": "form",
        "colab": {
          "base_uri": "https://localhost:8080/",
          "height": 34
        },
        "outputId": "e193ff4f-a9cd-43ad-bb7d-83bc929f829a"
      },
      "source": [
        "#@title DO NOT RUN THIS CELL UNLESS YOU HAVE BEEN DISCONNECTED FROM A SESSION\n",
        "from google.colab import drive\n",
        "drive.mount('/content/gdrive') \n",
        "#Mounts our drive onto our google colab system"
      ],
      "execution_count": 1,
      "outputs": [
        {
          "output_type": "stream",
          "text": [
            "Mounted at /content/gdrive\n"
          ],
          "name": "stdout"
        }
      ]
    },
    {
      "cell_type": "code",
      "metadata": {
        "id": "rNnvqjTy4pT5",
        "colab_type": "code",
        "cellView": "both",
        "colab": {
          "base_uri": "https://localhost:8080/",
          "height": 71
        },
        "outputId": "fec671d5-65e7-4050-cd67-4ad4698ea920"
      },
      "source": [
        "import sys\n",
        "!pip uninstall tslib\n",
        "#There are two modules called tslib. The one that !pip install accesses is NOT the one we want\n",
        "#This code will uninstall the irrelevant tslib library so that we can then access the relevant one\n",
        "\n",
        "#sys.path.append('/content/gdrive/Shared drives/dev-SyntheticControl/COVID19-synthetic-control-analysis')\n",
        "\n",
        "#Attempted Fix #1:\n",
        "sys.path.append('/content/gdrive/Shared drives/dev-SyntheticControl/COVID19-synthetic-control-analysis')\n",
        "\n",
        "print(sys.path)\n",
        "#Adds the synthetic control library from the google drive to the google colab system"
      ],
      "execution_count": 2,
      "outputs": [
        {
          "output_type": "stream",
          "text": [
            "\u001b[33mWARNING: Skipping tslib as it is not installed.\u001b[0m\n",
            "['', '/env/python', '/usr/lib/python36.zip', '/usr/lib/python3.6', '/usr/lib/python3.6/lib-dynload', '/usr/local/lib/python3.6/dist-packages', '/usr/lib/python3/dist-packages', '/usr/local/lib/python3.6/dist-packages/IPython/extensions', '/root/.ipython', '/content/gdrive/Shared drives/dev-SyntheticControl/COVID19-synthetic-control-analysis']\n"
          ],
          "name": "stdout"
        }
      ]
    },
    {
      "cell_type": "code",
      "metadata": {
        "id": "EfyONqnKtoh6",
        "colab_type": "code",
        "colab": {
          "base_uri": "https://localhost:8080/",
          "height": 71
        },
        "outputId": "f192c0d7-7553-416b-ba06-adeba92fd385"
      },
      "source": [
        "#Synthetic control\n",
        "import tslib\n",
        "\n",
        "import tslib.src\n",
        "from tslib.src import tsUtils\n",
        "from tslib.src.synthcontrol.syntheticControl import RobustSyntheticControl\n",
        "\n",
        "#Matplotlib\n",
        "import matplotlib.pyplot as plt\n",
        "import matplotlib.ticker as ticker\n",
        "import matplotlib.dates as mdates\n",
        "import matplotlib as mpl\n",
        "\n",
        "#Webscraping\n",
        "import requests\n",
        "from bs4 import BeautifulSoup\n",
        "\n",
        "#Miscellaneous\n",
        "import seaborn as sns\n",
        "import copy\n",
        "import pandas as pd\n",
        "import numpy as np\n",
        "from datetime import datetime as dtm\n",
        "from datetime import timedelta as td"
      ],
      "execution_count": 3,
      "outputs": [
        {
          "output_type": "stream",
          "text": [
            "/usr/local/lib/python3.6/dist-packages/statsmodels/tools/_testing.py:19: FutureWarning: pandas.util.testing is deprecated. Use the functions in the public API at pandas.testing instead.\n",
            "  import pandas.util.testing as tm\n"
          ],
          "name": "stderr"
        }
      ]
    },
    {
      "cell_type": "markdown",
      "metadata": {
        "id": "Hifrik7neXWM",
        "colab_type": "text"
      },
      "source": [
        "## Input Variables "
      ]
    },
    {
      "cell_type": "code",
      "metadata": {
        "id": "9tOyDmfVeXWW",
        "colab_type": "code",
        "colab": {}
      },
      "source": [
        "URL1 ='https://raw.githubusercontent.com/nytimes/covid-19-data/master/us-counties.csv'\n",
        "URL2 = \"https://raw.githubusercontent.com/nytimes/covid-19-data/master/mask-use/mask-use-by-county.csv\"\n",
        "URL3 = \"https://www.census.gov/geographies/reference-files/2017/demo/popest/2017-fips.html\"\n",
        "URL4 = \"https://raw.githubusercontent.com/jasonong/List-of-US-States/master/states.csv\""
      ],
      "execution_count": 4,
      "outputs": []
    },
    {
      "cell_type": "markdown",
      "metadata": {
        "id": "43Q53bBEeXWf",
        "colab_type": "text"
      },
      "source": [
        "## Finding Similar Counties "
      ]
    },
    {
      "cell_type": "code",
      "metadata": {
        "id": "_j-Tb5VssPEd",
        "colab_type": "code",
        "colab": {}
      },
      "source": [
        "def get_raw_data(URL1, ST_NAME):\n",
        "  state = pd.read_csv(URL1, index_col=0)\n",
        "  looking_for_alternative = \"cases\"\n",
        "  state=state[state['state']==target].pivot_table(index='county', columns='date', values= looking_for_alternative).fillna(0)\n",
        "  state_data_of_interest = (pd.read_csv(URL1).\n",
        "                            set_index([\"date\", \"county\", \"state\"]).\n",
        "                            drop(\"fips\", axis = 1).\n",
        "                            xs(ST_NAME, level = \"state\").\n",
        "                            reset_index().\n",
        "                            sort_values(by = [\"date\", \"county\"]).\n",
        "                            set_index([\"date\", \"county\"]))\n",
        "\n",
        "  dates = []\n",
        "  column_names = []\n",
        "  for i in days_prior:\n",
        "    dates.append(dtm.strftime(dtm.strptime(intervention, format) - td(days = i), format))\n",
        "    if i == 1:\n",
        "      column_names.append(\"Scaled magnitude of \"+looking_for_alternative+\" (\"+str(i)+\" day prior)\")\n",
        "    else:\n",
        "      column_names.append(\"Scaled magnitude of \"+looking_for_alternative+\" (\"+str(i)+\" days prior)\")\n",
        "  raw_X = (state[dates].\n",
        "      rename(columns = dict(zip(state[dates].columns, \n",
        "                                column_names))).\n",
        "      replace({0:np.nan}).\n",
        "      dropna())\n",
        "  return raw_X, raw_X.applymap(np.log)"
      ],
      "execution_count": 5,
      "outputs": []
    },
    {
      "cell_type": "code",
      "metadata": {
        "id": "nhWuIFvClU4m",
        "colab_type": "code",
        "colab": {}
      },
      "source": [
        "def get_age_database_links(URL4):\n",
        "\n",
        "  URL4 = \"https://www.census.gov/data/tables/time-series/demo/popest/2010s-counties-detail.html\" #link for webscraping\n",
        "  a = BeautifulSoup(requests.get(URL4).text, \"html.parser\")\n",
        "\n",
        "  age_html = [i for i in [i for i in  [i for i in [i for i in a.find_all(\"div\") if len(i.get_attribute_list(\"class\"))>0 ]]  if not( i.get_attribute_list(\"class\")[0] in [None, \"\"])] if i.get_attribute_list(\"class\")[0].startswith(\"state\")][0]\n",
        "  age_databases = pd.DataFrame( data = [[i.get_text().strip(), i.get_attribute_list(\"href\")[0] ] for i in age_html.find_all(\"a\")], columns = [\"State\", \"Link\"]).set_index(\"State\")\n",
        "  #webscrapes the URL and gets the links to the csv files that contain the census information for each state\n",
        "\n",
        "  return age_databases"
      ],
      "execution_count": 6,
      "outputs": []
    },
    {
      "cell_type": "code",
      "metadata": {
        "id": "QbxZso4DmHsw",
        "colab_type": "code",
        "colab": {}
      },
      "source": [
        "def add_population_to_X(X, age_databases, target):\n",
        "\n",
        "  main_df = pd.DataFrame()\n",
        "  for state in age_databases.index: #iterates through the states\n",
        "    if state == target:\n",
        "      try:\n",
        "        x = pd.read_csv(\"https:\" + age_databases[\"Link\"].loc[state]).drop([\"SUMLEV\", \"STNAME\", \"COUNTY\"], axis = 1)\n",
        "        #reads the csv file for each state\n",
        "\n",
        "        x = x.groupby(\"CTYNAME\").apply(np.mean).drop([\"YEAR\"], axis = 1).reset_index()\n",
        "        #the csv file has information for six years about each county\n",
        "        #this averages together the census data across those six years for each county\n",
        "        #the dataframe is grouped by county and the mean function is applied to it\n",
        "\n",
        "        x[\"STATE\"] = state\n",
        "\n",
        "        land_area = pd.read_html(\"https://en.wikipedia.org/wiki/List_of_counties_in_\"+state.replace(\" \", \"_\"))\n",
        "        #for webscraping the area of each county in the state (allowing me to calculate the population density of each county)\n",
        "        land_area = [i for i in land_area if len(i.columns) > 8][0]\n",
        "        #goes to the correct table on the wikipedia page\n",
        "\n",
        "        division = land_area.columns[0] #this is the county/parish\n",
        "        land_area = land_area.drop([\"Map\"], axis = 1, errors = \"ignore\").set_index(division)\n",
        "        #Most wikipedia pages have a column that shows a map of where the county is; I'm dropping it\n",
        "        #I am ignoring errors, because those will probably come from pages that don't have that column, in which case nothing needs to be done\n",
        "        #the county is set as the index\n",
        "\n",
        "        land_area = land_area[ [ land_area.columns[-1]] ].applymap(lambda area: float(\"\".join((area.split()[0]).split(\",\")))  ).rename(columns = {land_area.columns[-1]:\"Land Area\"}).applymap(round).reset_index()\n",
        "        #fixes the formatting of the numbers in the area column (they are strings with commas ever three digits)\n",
        "        \n",
        "        x = x.merge(land_area, left_on = \"CTYNAME\", right_on = division).drop([division], axis = 1)\n",
        "        #merges the census dataframe and the wikipedia dataframe into a single dataframe about the state\n",
        "\n",
        "        x[\"Population Density\"] = x[\"POPESTIMATE\"] / x[\"Land Area\"]\n",
        "        main_df = pd.concat([main_df, x])\n",
        "        #adds in the dataframe about the state to the overall dataframe about the country\n",
        "        print(state)\n",
        "      except:\n",
        "        print(state + \" (Could not add)\") #If anything went wrong, I'm not sure how to fix it, so I'll just ignore that state\n",
        "  main_df = (main_df.rename(columns = {\"CTYNAME\":\"County\", \"STATE\":\"State\"}).\n",
        "            set_index([\"State\", \"County\"])\n",
        "            [[\"POPESTIMATE\", \"MEDIAN_AGE_TOT\", \"Population Density\"]].\n",
        "            rename(columns = dict(zip ( [\"POPESTIMATE\", \"MEDIAN_AGE_TOT\"],\n",
        "                                        [\"Population\", \"Median Age\"]) ),\n",
        "                    errors = \"ignore\" ).\n",
        "            xs(target))\n",
        "\n",
        "  main_df.index = [i.split(\" County\")[0] for i in main_df.index]\n",
        "  X = X.join(main_df)\n",
        "  return X"
      ],
      "execution_count": 7,
      "outputs": []
    },
    {
      "cell_type": "code",
      "metadata": {
        "id": "d9KEKJDQsc4H",
        "colab_type": "code",
        "colab": {}
      },
      "source": [
        "def further_scaling(X):\n",
        "  X[\"Population\"] = X[\"Population\"].apply(np.log)\n",
        "  X[\"Population Density\"] = X[\"Population Density\"].apply(np.log)\n",
        "\n",
        "  for i in X.columns:\n",
        "    X[i] = 100*(X[i] - min(X[i]) ) / (max(X[i]) - min(X[i])) #min-max scaling\n",
        "\n",
        "  X.columns = list(X.columns[:-3])+[i+\" (Scaled)\" for i in X.columns[-3:] ]\n",
        "  return X"
      ],
      "execution_count": 8,
      "outputs": []
    },
    {
      "cell_type": "code",
      "metadata": {
        "id": "vzRbkTx5hUz2",
        "colab_type": "code",
        "colab": {}
      },
      "source": [
        "#Gets the New York Times data\n",
        "\n",
        "def NYTimesMaskData(URL2, ST_NAME):\n",
        "\n",
        "  nyTimesMaskPolicy = pd.read_csv(URL2, dtype=str).set_index(\"COUNTYFP\")\n",
        "  #************************************************************************************************************************\n",
        "  a = dtm.now()\n",
        "  soup = BeautifulSoup(requests.get(URL3).text, \"html.parser\")\n",
        "  spreadsheets = [i for i in soup.find_all(\"a\") if i.get_attribute_list(\"class\")[0] == \"uscb-text-link\"]\n",
        "  countyFIPS_link = [i for i in spreadsheets if \"County\" in i.get_text()][0].get_attribute_list(\"href\")[0]\n",
        "  countyFIPS = pd.read_excel(\"https:\"+countyFIPS_link, skiprows = 4, dtype=str)\n",
        "  countyFIPS[\"County Code\"] = countyFIPS[\"State Code (FIPS)\"] + countyFIPS[\"County Code (FIPS)\"]\n",
        "  countyFIPS = countyFIPS.rename(columns = {\"Area Name (including legal/statistical area description)\":\"Place\"})[[\"Place\", \"County Code\", \"State Code (FIPS)\", \"County Code (FIPS)\"]]\n",
        "\n",
        "  states = list(pd.read_csv(\"https://raw.githubusercontent.com/jasonong/List-of-US-States/master/states.csv\")[\"State\"])\n",
        "  stateFIPS = countyFIPS[countyFIPS[\"Place\"].isin(states)].set_index(\"Place\").applymap(lambda x: x[:2])\n",
        "  countyFIPS = countyFIPS[countyFIPS[\"Place\"].str.lower().apply(lambda x: x.endswith(\"county\"))]\n",
        "  countyFIPS[\"State\"] = \"\"\n",
        "\n",
        "  for i in countyFIPS.index:\n",
        "    number = countyFIPS.loc[i, \"State Code (FIPS)\"]\n",
        "    countyFIPS.loc[i, \"State\"] = stateFIPS.reset_index().set_index(\"County Code\").loc[number][\"Place\"]\n",
        "\n",
        "  state_county_FIPS = (countyFIPS.query(\"State == '\"+ST_NAME+\"'\").\n",
        "                      reset_index(drop = True).\n",
        "                      applymap(lambda x: x.split(\" County\")[0]))\n",
        "\n",
        "  b = dtm.now()\n",
        "  print(\"Time to run function:\", b-a)\n",
        "  state_county_FIPS\n",
        "  #************************************************************************************************************************\n",
        "\n",
        "  weighted_sum = 0\n",
        "  for i in range(5):\n",
        "    weighted_sum += i*nyTimesMaskPolicy[nyTimesMaskPolicy.columns[i]].apply(float)\n",
        "\n",
        "\n",
        "  relevant_FIPS_codes = list((state_county_FIPS[\"State Code (FIPS)\"] + state_county_FIPS[\"County Code (FIPS)\"]).values)\n",
        "  state_counties_mask_usage = (weighted_sum.loc[relevant_FIPS_codes]\n",
        "                              .reset_index().set_index(\"COUNTYFP\")\n",
        "                              .join(state_county_FIPS.set_index(\"County Code\"))[[\"NEVER\", \"Place\"]]\n",
        "                              .rename(columns = {\"NEVER\":\"Usage Index\", \"PLACE\":\"County\"}))\n",
        "  \n",
        "  return state_counties_mask_usage.sort_values(by = \"Usage Index\").iloc[[0, -1]], state_counties_mask_usage"
      ],
      "execution_count": 9,
      "outputs": []
    },
    {
      "cell_type": "code",
      "metadata": {
        "id": "hec5IpppTClh",
        "colab_type": "code",
        "colab": {}
      },
      "source": [
        "def find_closest_counties(df, county):\n",
        "  new_df = pd.DataFrame(columns = [\"Euclidean Distance from \"+county])\n",
        "  for value in (df.index):\n",
        "    new_df.loc[value] = (((df.loc[county] - df.loc[value])**2).sum())**0.5\n",
        "  return new_df"
      ],
      "execution_count": 10,
      "outputs": []
    },
    {
      "cell_type": "code",
      "metadata": {
        "id": "Naexb35Qrvfj",
        "colab_type": "code",
        "colab": {}
      },
      "source": [
        "divisions = 3\n",
        "middle_counterfactual = 2\n",
        "\n",
        "def extract_donor_pool(closeness_scores2, state_counties_mask_usage, counties_in_donor_pool,\n",
        "                       divisions = 2, middle_counterfactual = 2):\n",
        "  initial_county_number = round(len(closeness_scores2)/2)\n",
        "  closeness_scores = (closeness_scores2.\n",
        "                      join(state_counties_mask_usage.reset_index().\n",
        "                          set_index(\"Place\")).\n",
        "                      dropna())\n",
        "\n",
        "\n",
        "  mean_score = 3.1 #np.mean(closeness_scores[\"Usage Index\"])\n",
        "  standard_deviation = np.std(closeness_scores[\"Usage Index\"])\n",
        "\n",
        "  if divisions == 3:\n",
        "    closeness_scores[\"Group\"] = closeness_scores[\"Usage Index\"] - mean_score\n",
        "    for i in closeness_scores.index:\n",
        "      if abs(closeness_scores.loc[i][\"Group\"])<=standard_deviation:\n",
        "        closeness_scores.loc[i, \"Group\"] = 1\n",
        "      else:\n",
        "        closeness_scores.loc[i, \"Group\"] = 2*int(closeness_scores.loc[i][\"Usage Index\"] > mean_score)\n",
        "  else:\n",
        "    closeness_scores[\"Group\"] = 2*((closeness_scores[\"Usage Index\"] >= mean_score).apply(int)) \n",
        "  closeness_scores\n",
        "\n",
        "  county_of_interest_group = closeness_scores.loc[county_of_interest][\"Group\"]\n",
        "  counterfactual_group = 2*(county_of_interest_group < 1)\n",
        "  if county_of_interest_group == 1:\n",
        "    counterfactual_group = middle_counterfactual\n",
        "\n",
        "  donor_pool_table = (closeness_scores.\n",
        "                      query(\"Group == \"+str(counterfactual_group)).\n",
        "                      sort_values(by = closeness_scores.columns[0]).\n",
        "                      head(counties_in_donor_pool))\n",
        "  donor_pool = list(donor_pool_table.index)\n",
        "  return donor_pool, closeness_scores, mean_score, standard_deviation"
      ],
      "execution_count": 11,
      "outputs": []
    },
    {
      "cell_type": "code",
      "metadata": {
        "id": "Yw9F2c-vQvin",
        "colab_type": "code",
        "colab": {
          "base_uri": "https://localhost:8080/",
          "height": 258
        },
        "outputId": "42184de8-33f8-4540-a09a-f2f2febeefc7"
      },
      "source": [
        "format = \"%Y-%m-%d\"\n",
        "county = \"Wyandotte\" #to change\n",
        "target = \"Kansas\" #to change\n",
        "\n",
        "specific_intervention_dates = {\"Kansas\":\"2020-06-02\",\n",
        "                               \"Texas\":\"2020-07-02\",\n",
        "                               \"South Carolina\":\"2020-08-03\",\n",
        "                               \"Pennsylvania\":\"2020-07-01\"}\n",
        "\n",
        "date   = \"2020-06-01\" #to change\n",
        "#date = specific_intervention_dates[target]\n",
        "start  = \"2020-03-20\" #to change\n",
        "end    = \"2020-09-15\" #to change\n",
        "max_euclidean_distance = 50\n",
        "counties_in_donor_pool = 6\n",
        "download_output = False\n",
        "\n",
        "\n",
        "ST_NAME = target\n",
        "intervention = date\n",
        "county_of_interest = str(county)\n",
        "days_prior = [1, 7, 15] #How many days before the intervention date do we want to consider?\n",
        "raw_X, X = get_raw_data(URL1, ST_NAME)\n",
        "age_databases = get_age_database_links(URL4)\n",
        "X = add_population_to_X(X, age_databases, target)\n",
        "X = further_scaling(X)\n",
        "extremes, state_counties_mask_usage = NYTimesMaskData(URL2, ST_NAME)\n",
        "\n",
        "closeness_scores2 = (find_closest_counties(X, county_of_interest).\n",
        "                    sort_values(\"Euclidean Distance from \"+county_of_interest).\n",
        "                    query(\"`Euclidean Distance from \"+county_of_interest+\"` <= \"+str(max_euclidean_distance)))\n",
        "\n",
        "donor_pool, closeness_scores, mean_score, standard_deviation = extract_donor_pool(closeness_scores2, state_counties_mask_usage, counties_in_donor_pool,\n",
        "                                                                                  divisions = 2, middle_counterfactual = 0)\n",
        "\n",
        "print(\"Donor pool: \", donor_pool)\n",
        "closeness_scores#[closeness_scores[\"Group\"]==0]"
      ],
      "execution_count": 59,
      "outputs": [
        {
          "output_type": "stream",
          "text": [
            "Kansas\n",
            "Time to run function: 0:00:10.117748\n",
            "Donor pool:  ['Sedgwick', 'Leavenworth']\n"
          ],
          "name": "stdout"
        },
        {
          "output_type": "execute_result",
          "data": {
            "text/html": [
              "<div>\n",
              "<style scoped>\n",
              "    .dataframe tbody tr th:only-of-type {\n",
              "        vertical-align: middle;\n",
              "    }\n",
              "\n",
              "    .dataframe tbody tr th {\n",
              "        vertical-align: top;\n",
              "    }\n",
              "\n",
              "    .dataframe thead th {\n",
              "        text-align: right;\n",
              "    }\n",
              "</style>\n",
              "<table border=\"1\" class=\"dataframe\">\n",
              "  <thead>\n",
              "    <tr style=\"text-align: right;\">\n",
              "      <th></th>\n",
              "      <th>Euclidean Distance from Wyandotte</th>\n",
              "      <th>COUNTYFP</th>\n",
              "      <th>Usage Index</th>\n",
              "      <th>Group</th>\n",
              "    </tr>\n",
              "  </thead>\n",
              "  <tbody>\n",
              "    <tr>\n",
              "      <th>Wyandotte</th>\n",
              "      <td>0.000000</td>\n",
              "      <td>20209</td>\n",
              "      <td>3.402</td>\n",
              "      <td>2</td>\n",
              "    </tr>\n",
              "    <tr>\n",
              "      <th>Johnson</th>\n",
              "      <td>29.283976</td>\n",
              "      <td>20091</td>\n",
              "      <td>3.457</td>\n",
              "      <td>2</td>\n",
              "    </tr>\n",
              "    <tr>\n",
              "      <th>Sedgwick</th>\n",
              "      <td>31.406946</td>\n",
              "      <td>20173</td>\n",
              "      <td>3.083</td>\n",
              "      <td>0</td>\n",
              "    </tr>\n",
              "    <tr>\n",
              "      <th>Leavenworth</th>\n",
              "      <td>35.628537</td>\n",
              "      <td>20103</td>\n",
              "      <td>2.921</td>\n",
              "      <td>0</td>\n",
              "    </tr>\n",
              "    <tr>\n",
              "      <th>Shawnee</th>\n",
              "      <td>48.003814</td>\n",
              "      <td>20177</td>\n",
              "      <td>3.352</td>\n",
              "      <td>2</td>\n",
              "    </tr>\n",
              "  </tbody>\n",
              "</table>\n",
              "</div>"
            ],
            "text/plain": [
              "             Euclidean Distance from Wyandotte COUNTYFP  Usage Index  Group\n",
              "Wyandotte                             0.000000    20209        3.402      2\n",
              "Johnson                              29.283976    20091        3.457      2\n",
              "Sedgwick                             31.406946    20173        3.083      0\n",
              "Leavenworth                          35.628537    20103        2.921      0\n",
              "Shawnee                              48.003814    20177        3.352      2"
            ]
          },
          "metadata": {
            "tags": []
          },
          "execution_count": 59
        }
      ]
    },
    {
      "cell_type": "code",
      "metadata": {
        "id": "qvCQ6zlpeXWz",
        "colab_type": "code",
        "colab": {
          "base_uri": "https://localhost:8080/",
          "height": 300
        },
        "outputId": "0c1c7c9a-65b6-41eb-b1ff-8a0722e2493e"
      },
      "source": [
        "state = pd.read_csv(URL1, index_col=0)\n",
        "looking_for_alternative = \"cases\"\n",
        "state=state[state['state']==target].pivot_table(index='county', columns='date', values= looking_for_alternative).fillna(0)\n",
        "data = state[[i for i in state.columns if \n",
        "              (dtm.strptime(i, format)<=dtm.strptime(end, format)) and \n",
        "              (dtm.strptime(i, format)>=dtm.strptime(start, format))]].reindex(donor_pool+[county_of_interest])\n",
        "\n",
        "group_of_county = closeness_scores.loc[county_of_interest][\"Group\"]\n",
        "usage_of_county = closeness_scores.loc[county_of_interest][\"Usage Index\"]\n",
        "data[[\"2020-05-30\", \"2020-05-31\", \"2020-06-01\", \"2020-06-02\"]]"
      ],
      "execution_count": 49,
      "outputs": [
        {
          "output_type": "execute_result",
          "data": {
            "text/html": [
              "<div>\n",
              "<style scoped>\n",
              "    .dataframe tbody tr th:only-of-type {\n",
              "        vertical-align: middle;\n",
              "    }\n",
              "\n",
              "    .dataframe tbody tr th {\n",
              "        vertical-align: top;\n",
              "    }\n",
              "\n",
              "    .dataframe thead th {\n",
              "        text-align: right;\n",
              "    }\n",
              "</style>\n",
              "<table border=\"1\" class=\"dataframe\">\n",
              "  <thead>\n",
              "    <tr style=\"text-align: right;\">\n",
              "      <th>date</th>\n",
              "      <th>2020-05-30</th>\n",
              "      <th>2020-05-31</th>\n",
              "      <th>2020-06-01</th>\n",
              "      <th>2020-06-02</th>\n",
              "    </tr>\n",
              "    <tr>\n",
              "      <th>county</th>\n",
              "      <th></th>\n",
              "      <th></th>\n",
              "      <th></th>\n",
              "      <th></th>\n",
              "    </tr>\n",
              "  </thead>\n",
              "  <tbody>\n",
              "    <tr>\n",
              "      <th>Pottawatomie</th>\n",
              "      <td>27.0</td>\n",
              "      <td>27.0</td>\n",
              "      <td>27.0</td>\n",
              "      <td>27.0</td>\n",
              "    </tr>\n",
              "    <tr>\n",
              "      <th>Jefferson</th>\n",
              "      <td>22.0</td>\n",
              "      <td>22.0</td>\n",
              "      <td>22.0</td>\n",
              "      <td>22.0</td>\n",
              "    </tr>\n",
              "    <tr>\n",
              "      <th>Miami</th>\n",
              "      <td>7.0</td>\n",
              "      <td>7.0</td>\n",
              "      <td>7.0</td>\n",
              "      <td>7.0</td>\n",
              "    </tr>\n",
              "    <tr>\n",
              "      <th>Osage</th>\n",
              "      <td>7.0</td>\n",
              "      <td>7.0</td>\n",
              "      <td>7.0</td>\n",
              "      <td>7.0</td>\n",
              "    </tr>\n",
              "    <tr>\n",
              "      <th>Jackson</th>\n",
              "      <td>96.0</td>\n",
              "      <td>100.0</td>\n",
              "      <td>100.0</td>\n",
              "      <td>102.0</td>\n",
              "    </tr>\n",
              "    <tr>\n",
              "      <th>Wabaunsee</th>\n",
              "      <td>31.0</td>\n",
              "      <td>31.0</td>\n",
              "      <td>31.0</td>\n",
              "      <td>31.0</td>\n",
              "    </tr>\n",
              "    <tr>\n",
              "      <th>Atchison</th>\n",
              "      <td>20.0</td>\n",
              "      <td>20.0</td>\n",
              "      <td>22.0</td>\n",
              "      <td>22.0</td>\n",
              "    </tr>\n",
              "  </tbody>\n",
              "</table>\n",
              "</div>"
            ],
            "text/plain": [
              "date          2020-05-30  2020-05-31  2020-06-01  2020-06-02\n",
              "county                                                      \n",
              "Pottawatomie        27.0        27.0        27.0        27.0\n",
              "Jefferson           22.0        22.0        22.0        22.0\n",
              "Miami                7.0         7.0         7.0         7.0\n",
              "Osage                7.0         7.0         7.0         7.0\n",
              "Jackson             96.0       100.0       100.0       102.0\n",
              "Wabaunsee           31.0        31.0        31.0        31.0\n",
              "Atchison            20.0        20.0        22.0        22.0"
            ]
          },
          "metadata": {
            "tags": []
          },
          "execution_count": 49
        }
      ]
    },
    {
      "cell_type": "markdown",
      "metadata": {
        "id": "_iTuZpfIeXW1",
        "colab_type": "text"
      },
      "source": [
        "## Performing Synthetic Control"
      ]
    },
    {
      "cell_type": "code",
      "metadata": {
        "id": "eB8NzVJGeXW3",
        "colab_type": "code",
        "colab": {
          "base_uri": "https://localhost:8080/",
          "height": 458
        },
        "outputId": "713ca95e-6c56-45e6-c99b-f28fb1c0352b"
      },
      "source": [
        "allColumns = data.columns.values\n",
        "years = list(data.columns)\n",
        "caStateKey = county\n",
        "otherStates = [i for i in data.index if i!=county_of_interest]\n",
        "p = 1.0\n",
        "yearTrainEnd = intervention\n",
        "#*******************************************************************************\n",
        "testYears=list(years)[list(years).index(date):len(list(years))]\n",
        "trainingYears=list(years)[list(years).index(start):list(years).index(date)]\n",
        "trainDF = data[trainingYears].T.reset_index(drop = True)\n",
        "testDF = data[testYears].T.reset_index(drop = True)\n",
        "trainDF = data[trainingYears].T.reset_index(drop = True)\n",
        "testDF = data[testYears].T.reset_index(drop = True)\n",
        "\n",
        "\n",
        "\n",
        "singvals = min(4, len(donor_pool))#counties_in_donor_pool\n",
        "print(singvals)\n",
        "print(len(donor_pool))\n",
        "rscModel = RobustSyntheticControl(caStateKey, singvals, len(trainDF), probObservation=1.0, modelType='svd', svdMethod='numpy', otherSeriesKeysArray=otherStates)\n",
        "rscModel.fit(trainDF)\n",
        "denoisedDF = rscModel.model.denoisedDF()\n",
        "predictions = []\n",
        "predictions = np.dot(testDF[otherStates], rscModel.model.weights)\n",
        "actual = data.loc[caStateKey]\n",
        "model_fit = np.dot(trainDF[otherStates][:], rscModel.model.weights)\n",
        "\n",
        "\n",
        "trainDF"
      ],
      "execution_count": 50,
      "outputs": [
        {
          "output_type": "stream",
          "text": [
            "4\n",
            "6\n"
          ],
          "name": "stdout"
        },
        {
          "output_type": "execute_result",
          "data": {
            "text/html": [
              "<div>\n",
              "<style scoped>\n",
              "    .dataframe tbody tr th:only-of-type {\n",
              "        vertical-align: middle;\n",
              "    }\n",
              "\n",
              "    .dataframe tbody tr th {\n",
              "        vertical-align: top;\n",
              "    }\n",
              "\n",
              "    .dataframe thead th {\n",
              "        text-align: right;\n",
              "    }\n",
              "</style>\n",
              "<table border=\"1\" class=\"dataframe\">\n",
              "  <thead>\n",
              "    <tr style=\"text-align: right;\">\n",
              "      <th>county</th>\n",
              "      <th>Pottawatomie</th>\n",
              "      <th>Jefferson</th>\n",
              "      <th>Miami</th>\n",
              "      <th>Osage</th>\n",
              "      <th>Jackson</th>\n",
              "      <th>Wabaunsee</th>\n",
              "      <th>Atchison</th>\n",
              "    </tr>\n",
              "  </thead>\n",
              "  <tbody>\n",
              "    <tr>\n",
              "      <th>0</th>\n",
              "      <td>0.0</td>\n",
              "      <td>0.0</td>\n",
              "      <td>0.0</td>\n",
              "      <td>0.0</td>\n",
              "      <td>0.0</td>\n",
              "      <td>0.0</td>\n",
              "      <td>0.0</td>\n",
              "    </tr>\n",
              "    <tr>\n",
              "      <th>1</th>\n",
              "      <td>0.0</td>\n",
              "      <td>0.0</td>\n",
              "      <td>0.0</td>\n",
              "      <td>0.0</td>\n",
              "      <td>0.0</td>\n",
              "      <td>0.0</td>\n",
              "      <td>0.0</td>\n",
              "    </tr>\n",
              "    <tr>\n",
              "      <th>2</th>\n",
              "      <td>0.0</td>\n",
              "      <td>0.0</td>\n",
              "      <td>0.0</td>\n",
              "      <td>0.0</td>\n",
              "      <td>1.0</td>\n",
              "      <td>0.0</td>\n",
              "      <td>0.0</td>\n",
              "    </tr>\n",
              "    <tr>\n",
              "      <th>3</th>\n",
              "      <td>0.0</td>\n",
              "      <td>0.0</td>\n",
              "      <td>0.0</td>\n",
              "      <td>0.0</td>\n",
              "      <td>1.0</td>\n",
              "      <td>0.0</td>\n",
              "      <td>0.0</td>\n",
              "    </tr>\n",
              "    <tr>\n",
              "      <th>4</th>\n",
              "      <td>1.0</td>\n",
              "      <td>0.0</td>\n",
              "      <td>0.0</td>\n",
              "      <td>0.0</td>\n",
              "      <td>1.0</td>\n",
              "      <td>0.0</td>\n",
              "      <td>0.0</td>\n",
              "    </tr>\n",
              "    <tr>\n",
              "      <th>...</th>\n",
              "      <td>...</td>\n",
              "      <td>...</td>\n",
              "      <td>...</td>\n",
              "      <td>...</td>\n",
              "      <td>...</td>\n",
              "      <td>...</td>\n",
              "      <td>...</td>\n",
              "    </tr>\n",
              "    <tr>\n",
              "      <th>68</th>\n",
              "      <td>25.0</td>\n",
              "      <td>22.0</td>\n",
              "      <td>7.0</td>\n",
              "      <td>7.0</td>\n",
              "      <td>93.0</td>\n",
              "      <td>31.0</td>\n",
              "      <td>20.0</td>\n",
              "    </tr>\n",
              "    <tr>\n",
              "      <th>69</th>\n",
              "      <td>25.0</td>\n",
              "      <td>22.0</td>\n",
              "      <td>7.0</td>\n",
              "      <td>7.0</td>\n",
              "      <td>93.0</td>\n",
              "      <td>31.0</td>\n",
              "      <td>20.0</td>\n",
              "    </tr>\n",
              "    <tr>\n",
              "      <th>70</th>\n",
              "      <td>27.0</td>\n",
              "      <td>22.0</td>\n",
              "      <td>7.0</td>\n",
              "      <td>7.0</td>\n",
              "      <td>96.0</td>\n",
              "      <td>31.0</td>\n",
              "      <td>20.0</td>\n",
              "    </tr>\n",
              "    <tr>\n",
              "      <th>71</th>\n",
              "      <td>27.0</td>\n",
              "      <td>22.0</td>\n",
              "      <td>7.0</td>\n",
              "      <td>7.0</td>\n",
              "      <td>96.0</td>\n",
              "      <td>31.0</td>\n",
              "      <td>20.0</td>\n",
              "    </tr>\n",
              "    <tr>\n",
              "      <th>72</th>\n",
              "      <td>27.0</td>\n",
              "      <td>22.0</td>\n",
              "      <td>7.0</td>\n",
              "      <td>7.0</td>\n",
              "      <td>100.0</td>\n",
              "      <td>31.0</td>\n",
              "      <td>20.0</td>\n",
              "    </tr>\n",
              "  </tbody>\n",
              "</table>\n",
              "<p>73 rows × 7 columns</p>\n",
              "</div>"
            ],
            "text/plain": [
              "county  Pottawatomie  Jefferson  Miami  Osage  Jackson  Wabaunsee  Atchison\n",
              "0                0.0        0.0    0.0    0.0      0.0        0.0       0.0\n",
              "1                0.0        0.0    0.0    0.0      0.0        0.0       0.0\n",
              "2                0.0        0.0    0.0    0.0      1.0        0.0       0.0\n",
              "3                0.0        0.0    0.0    0.0      1.0        0.0       0.0\n",
              "4                1.0        0.0    0.0    0.0      1.0        0.0       0.0\n",
              "..               ...        ...    ...    ...      ...        ...       ...\n",
              "68              25.0       22.0    7.0    7.0     93.0       31.0      20.0\n",
              "69              25.0       22.0    7.0    7.0     93.0       31.0      20.0\n",
              "70              27.0       22.0    7.0    7.0     96.0       31.0      20.0\n",
              "71              27.0       22.0    7.0    7.0     96.0       31.0      20.0\n",
              "72              27.0       22.0    7.0    7.0    100.0       31.0      20.0\n",
              "\n",
              "[73 rows x 7 columns]"
            ]
          },
          "metadata": {
            "tags": []
          },
          "execution_count": 50
        }
      ]
    },
    {
      "cell_type": "markdown",
      "metadata": {
        "id": "LgYLhVcDeXXA",
        "colab_type": "text"
      },
      "source": [
        "## Plotting graph"
      ]
    },
    {
      "cell_type": "code",
      "metadata": {
        "id": "P4SU9VeDeXXA",
        "colab_type": "code",
        "colab": {
          "base_uri": "https://localhost:8080/",
          "height": 356
        },
        "outputId": "cece207b-0622-47da-8b7d-d3a02899af27"
      },
      "source": [
        "face_state_dict = {\"Texas\":\"yellow\",\n",
        "                   \"South Carolina\":\"sandybrown\",\n",
        "                   \"Kansas\":\"gold\",\n",
        "                   \"West Virginia\":\"papayawhip\",\n",
        "                   \"Ohio\":\"lightblue\",\n",
        "                   \"Pennsylvania\":\"aquamarine\"}\n",
        "\n",
        "try:\n",
        "  fig = plt.figure(figsize=(40,10), facecolor = face_state_dict[ST_NAME])\n",
        "except:\n",
        "  fig = plt.figure(figsize=(40,10))\n",
        "tick_spacing = 1\n",
        "intDate=yearTrainEnd\n",
        "plt.plot(years, actual)\n",
        "\n",
        "plt.xlabel('Time Period', family = \"serif\", \n",
        "           fontsize = 25, style = \"italic\")\n",
        "plt.ylabel('Number of confirmed Cases', family = \"serif\", \n",
        "           fontsize = 25, style = \"italic\")\n",
        "plt.plot(trainingYears, model_fit, label='fitted model')\n",
        "plt.plot(testYears, predictions, label='counterfactual')\n",
        "\n",
        "\n",
        "plt.title(\"Counterfactual Consists of the \"+str(singvals)+\" Most Suitable Counties from the \"+str(len(donor_pool))+\" Counties in the Donor Pool\",\n",
        "          fontsize = 30,\n",
        "          fontname = \"Serif\")\n",
        "\n",
        "donor_pool = donor_pool[: min(6, len(donor_pool))]\n",
        "\n",
        "plt.suptitle(county_of_interest+\", \"+ST_NAME+\" (Donor Pool: \"+\", \".join(donor_pool[:-1])+\", and \"+donor_pool[-1]+\")\",\n",
        "             fontname = \"Serif\",\n",
        "             fontsize = 35,\n",
        "             weight = 800)\n",
        "\n",
        "plt.legend(['Actual County: '+county_of_interest+\" (Mask-wearing index of \"+str(usage_of_county)+\")\",\n",
        "            \"Fitted Model\",\n",
        "            \"Counterfactual\"],\n",
        "           prop = {\"size\":20,\n",
        "                   \"family\":\"Serif\"},\n",
        "           bbox_to_anchor = (0.3, 1),\n",
        "           facecolor = \"lightgray\")\n",
        "n = 7  # Keeps every 7th label\n",
        "ax = plt.gca()\n",
        "[l.set_visible(False) for (i,l) in enumerate(ax.xaxis.get_ticklabels()) if i % n != 0]\n",
        "\n",
        "#plt.xticks(rotation=90)\n",
        "plt.axvline(x=str(intDate), color='r', linestyle='--', linewidth=4)\n",
        "plt.grid(axis = \"y\")\n",
        "\n",
        "if download_output == True:\n",
        "  file_names = [caStateKey+\" (\"+str(singvals)+' Best Values from a Donor pool of '+str(len(donor_pool))+' Values Used) '+dtm.strftime(dtm.now(), \"%m_%d_%Y_%H%M%S\")+\".png\",\n",
        "                \"Closeness Scores of Nearby Counties to \"+caStateKey+\" \"+dtm.strftime(dtm.now(), \"%m_%d_%Y_%H%M%S\")+\".csv\",\n",
        "                \"Input Variables For Determining Closenessto \"+caStateKey+\" \"+dtm.strftime(dtm.now(), \"%m_%d_%Y_%H%M%S\")+\".csv\",\n",
        "                \"Data for the Donor Pool (and for \"+caStateKey+\") \"+dtm.strftime(dtm.now(), \"%m_%d_%Y_%H%M%S\")+\".csv\"]\n",
        "  plt.savefig(file_names[0], facecolor = face_state_dict[ST_NAME]) #If so, then save the graph\n",
        "  closeness_scores.to_csv(file_names[1])\n",
        "  X.to_csv(file_names[2])\n",
        "  data.to_csv(file_names[3])\n",
        "  from google.colab import files\n",
        "  for i in file_names:\n",
        "    files.download(i)\n",
        "\n",
        "plt.show()"
      ],
      "execution_count": 58,
      "outputs": [
        {
          "output_type": "display_data",
          "data": {
            "application/javascript": [
              "\n",
              "    async function download(id, filename, size) {\n",
              "      if (!google.colab.kernel.accessAllowed) {\n",
              "        return;\n",
              "      }\n",
              "      const div = document.createElement('div');\n",
              "      const label = document.createElement('label');\n",
              "      label.textContent = `Downloading \"${filename}\": `;\n",
              "      div.appendChild(label);\n",
              "      const progress = document.createElement('progress');\n",
              "      progress.max = size;\n",
              "      div.appendChild(progress);\n",
              "      document.body.appendChild(div);\n",
              "\n",
              "      const buffers = [];\n",
              "      let downloaded = 0;\n",
              "\n",
              "      const channel = await google.colab.kernel.comms.open(id);\n",
              "      // Send a message to notify the kernel that we're ready.\n",
              "      channel.send({})\n",
              "\n",
              "      for await (const message of channel.messages) {\n",
              "        // Send a message to notify the kernel that we're ready.\n",
              "        channel.send({})\n",
              "        if (message.buffers) {\n",
              "          for (const buffer of message.buffers) {\n",
              "            buffers.push(buffer);\n",
              "            downloaded += buffer.byteLength;\n",
              "            progress.value = downloaded;\n",
              "          }\n",
              "        }\n",
              "      }\n",
              "      const blob = new Blob(buffers, {type: 'application/binary'});\n",
              "      const a = document.createElement('a');\n",
              "      a.href = window.URL.createObjectURL(blob);\n",
              "      a.download = filename;\n",
              "      div.appendChild(a);\n",
              "      a.click();\n",
              "      div.remove();\n",
              "    }\n",
              "  "
            ],
            "text/plain": [
              "<IPython.core.display.Javascript object>"
            ]
          },
          "metadata": {
            "tags": []
          }
        },
        {
          "output_type": "display_data",
          "data": {
            "application/javascript": [
              "download(\"download_62e6a86e-741c-4ff8-b2a5-dab169746ae4\", \"Atchison (4 Best Values from a Donor pool of 6 Values Used) 09_17_2020_225633.png\", 108736)"
            ],
            "text/plain": [
              "<IPython.core.display.Javascript object>"
            ]
          },
          "metadata": {
            "tags": []
          }
        },
        {
          "output_type": "display_data",
          "data": {
            "application/javascript": [
              "\n",
              "    async function download(id, filename, size) {\n",
              "      if (!google.colab.kernel.accessAllowed) {\n",
              "        return;\n",
              "      }\n",
              "      const div = document.createElement('div');\n",
              "      const label = document.createElement('label');\n",
              "      label.textContent = `Downloading \"${filename}\": `;\n",
              "      div.appendChild(label);\n",
              "      const progress = document.createElement('progress');\n",
              "      progress.max = size;\n",
              "      div.appendChild(progress);\n",
              "      document.body.appendChild(div);\n",
              "\n",
              "      const buffers = [];\n",
              "      let downloaded = 0;\n",
              "\n",
              "      const channel = await google.colab.kernel.comms.open(id);\n",
              "      // Send a message to notify the kernel that we're ready.\n",
              "      channel.send({})\n",
              "\n",
              "      for await (const message of channel.messages) {\n",
              "        // Send a message to notify the kernel that we're ready.\n",
              "        channel.send({})\n",
              "        if (message.buffers) {\n",
              "          for (const buffer of message.buffers) {\n",
              "            buffers.push(buffer);\n",
              "            downloaded += buffer.byteLength;\n",
              "            progress.value = downloaded;\n",
              "          }\n",
              "        }\n",
              "      }\n",
              "      const blob = new Blob(buffers, {type: 'application/binary'});\n",
              "      const a = document.createElement('a');\n",
              "      a.href = window.URL.createObjectURL(blob);\n",
              "      a.download = filename;\n",
              "      div.appendChild(a);\n",
              "      a.click();\n",
              "      div.remove();\n",
              "    }\n",
              "  "
            ],
            "text/plain": [
              "<IPython.core.display.Javascript object>"
            ]
          },
          "metadata": {
            "tags": []
          }
        },
        {
          "output_type": "display_data",
          "data": {
            "application/javascript": [
              "download(\"download_c70feb38-d202-4957-95cc-6372d2d418c2\", \"Closeness Scores of Nearby Counties to Atchison 09_17_2020_225633.csv\", 1814)"
            ],
            "text/plain": [
              "<IPython.core.display.Javascript object>"
            ]
          },
          "metadata": {
            "tags": []
          }
        },
        {
          "output_type": "display_data",
          "data": {
            "application/javascript": [
              "\n",
              "    async function download(id, filename, size) {\n",
              "      if (!google.colab.kernel.accessAllowed) {\n",
              "        return;\n",
              "      }\n",
              "      const div = document.createElement('div');\n",
              "      const label = document.createElement('label');\n",
              "      label.textContent = `Downloading \"${filename}\": `;\n",
              "      div.appendChild(label);\n",
              "      const progress = document.createElement('progress');\n",
              "      progress.max = size;\n",
              "      div.appendChild(progress);\n",
              "      document.body.appendChild(div);\n",
              "\n",
              "      const buffers = [];\n",
              "      let downloaded = 0;\n",
              "\n",
              "      const channel = await google.colab.kernel.comms.open(id);\n",
              "      // Send a message to notify the kernel that we're ready.\n",
              "      channel.send({})\n",
              "\n",
              "      for await (const message of channel.messages) {\n",
              "        // Send a message to notify the kernel that we're ready.\n",
              "        channel.send({})\n",
              "        if (message.buffers) {\n",
              "          for (const buffer of message.buffers) {\n",
              "            buffers.push(buffer);\n",
              "            downloaded += buffer.byteLength;\n",
              "            progress.value = downloaded;\n",
              "          }\n",
              "        }\n",
              "      }\n",
              "      const blob = new Blob(buffers, {type: 'application/binary'});\n",
              "      const a = document.createElement('a');\n",
              "      a.href = window.URL.createObjectURL(blob);\n",
              "      a.download = filename;\n",
              "      div.appendChild(a);\n",
              "      a.click();\n",
              "      div.remove();\n",
              "    }\n",
              "  "
            ],
            "text/plain": [
              "<IPython.core.display.Javascript object>"
            ]
          },
          "metadata": {
            "tags": []
          }
        },
        {
          "output_type": "display_data",
          "data": {
            "application/javascript": [
              "download(\"download_f8e550a7-8735-49c0-8bce-215177fb1184\", \"Input Variables For Determining Closenessto Atchison 09_17_2020_225633.csv\", 9561)"
            ],
            "text/plain": [
              "<IPython.core.display.Javascript object>"
            ]
          },
          "metadata": {
            "tags": []
          }
        },
        {
          "output_type": "display_data",
          "data": {
            "application/javascript": [
              "\n",
              "    async function download(id, filename, size) {\n",
              "      if (!google.colab.kernel.accessAllowed) {\n",
              "        return;\n",
              "      }\n",
              "      const div = document.createElement('div');\n",
              "      const label = document.createElement('label');\n",
              "      label.textContent = `Downloading \"${filename}\": `;\n",
              "      div.appendChild(label);\n",
              "      const progress = document.createElement('progress');\n",
              "      progress.max = size;\n",
              "      div.appendChild(progress);\n",
              "      document.body.appendChild(div);\n",
              "\n",
              "      const buffers = [];\n",
              "      let downloaded = 0;\n",
              "\n",
              "      const channel = await google.colab.kernel.comms.open(id);\n",
              "      // Send a message to notify the kernel that we're ready.\n",
              "      channel.send({})\n",
              "\n",
              "      for await (const message of channel.messages) {\n",
              "        // Send a message to notify the kernel that we're ready.\n",
              "        channel.send({})\n",
              "        if (message.buffers) {\n",
              "          for (const buffer of message.buffers) {\n",
              "            buffers.push(buffer);\n",
              "            downloaded += buffer.byteLength;\n",
              "            progress.value = downloaded;\n",
              "          }\n",
              "        }\n",
              "      }\n",
              "      const blob = new Blob(buffers, {type: 'application/binary'});\n",
              "      const a = document.createElement('a');\n",
              "      a.href = window.URL.createObjectURL(blob);\n",
              "      a.download = filename;\n",
              "      div.appendChild(a);\n",
              "      a.click();\n",
              "      div.remove();\n",
              "    }\n",
              "  "
            ],
            "text/plain": [
              "<IPython.core.display.Javascript object>"
            ]
          },
          "metadata": {
            "tags": []
          }
        },
        {
          "output_type": "display_data",
          "data": {
            "application/javascript": [
              "download(\"download_310d72bc-f1ad-45f7-bbe6-20b8a374bccc\", \"Data for the Donor Pool (and for Atchison) 09_17_2020_225633.csv\", 8235)"
            ],
            "text/plain": [
              "<IPython.core.display.Javascript object>"
            ]
          },
          "metadata": {
            "tags": []
          }
        },
        {
          "output_type": "display_data",
          "data": {
            "image/png": "[encoded data removed]",
            "text/plain": [
              "<Figure size 2880x720 with 1 Axes>"
            ]
          },
          "metadata": {
            "tags": []
          }
        }
      ]
    },
    {
      "cell_type": "code",
      "metadata": {
        "id": "QADdQ8G9eXXG",
        "colab_type": "code",
        "colab": {
          "base_uri": "https://localhost:8080/",
          "height": 34
        },
        "outputId": "4a419e63-fb1a-47e5-eb2e-a649f8a30c47"
      },
      "source": [
        "change = round(100*(predictions[-1] / data.loc[county_of_interest].iloc[-1])-100, \n",
        "      2)\n",
        "\n",
        "if change < 0:\n",
        "  word = \"fewer\"\n",
        "else:\n",
        "  word = \"more\"\n",
        "\n",
        "if  closeness_scores[\"Group\"].loc[county_of_interest] == 2:\n",
        "  phrase = \"a more lenient\"\n",
        "else:\n",
        "  phrase = \"a stricter\"\n",
        "\n",
        "\n",
        "print((\"As of {}, {} County would have had {}% \"+\n",
        "       word+\" cases if it had followed \"+phrase+\" policy toward Covid-19.\").\n",
        "      format(\n",
        "          dtm.strftime(dtm.strptime(data.columns[-1], format), \"%B %d, %Y\"),\n",
        "          county_of_interest,\n",
        "          abs(change)\n",
        "          ))"
      ],
      "execution_count": 47,
      "outputs": [
        {
          "output_type": "stream",
          "text": [
            "As of September 15, 2020, Atchison County would have had 22.8% fewer cases if it had followed a stricter policy toward Covid-19.\n"
          ],
          "name": "stdout"
        }
      ]
    }
  ]
}